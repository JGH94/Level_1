{
  "nbformat": 4,
  "nbformat_minor": 0,
  "metadata": {
    "colab": {
      "provenance": [],
      "authorship_tag": "ABX9TyO/ouQ+QbqoInSzQepACi/q",
      "include_colab_link": true
    },
    "kernelspec": {
      "name": "python3",
      "display_name": "Python 3"
    },
    "language_info": {
      "name": "python"
    }
  },
  "cells": [
    {
      "cell_type": "markdown",
      "metadata": {
        "id": "view-in-github",
        "colab_type": "text"
      },
      "source": [
        "<a href=\"https://colab.research.google.com/github/JGH94/Level_1/blob/main/Level_1.ipynb\" target=\"_parent\"><img src=\"https://colab.research.google.com/assets/colab-badge.svg\" alt=\"Open In Colab\"/></a>"
      ]
    },
    {
      "cell_type": "code",
      "execution_count": null,
      "metadata": {
        "colab": {
          "base_uri": "https://localhost:8080/"
        },
        "id": "rJlFHGVzJWfU",
        "outputId": "558cd476-2afa-46cd-f769-0b95619be099"
      },
      "outputs": [
        {
          "output_type": "execute_result",
          "data": {
            "text/plain": [
              "-1"
            ]
          },
          "metadata": {},
          "execution_count": 126
        }
      ],
      "source": [
        "# 1. [PCCP 기출문제] 1번 / 붕대 감기\n",
        "# https://school.programmers.co.kr/learn/courses/30/lessons/250137\n",
        "\n",
        "def solution(bandage, health, attacks):\n",
        "    nowH = health\n",
        "    for i in range(0,len(attacks)):\n",
        "      if i == 0:\n",
        "        # 처음 시간보다 공격이 빠를때, 어택!\n",
        "        if bandage[0] > attacks[i][0]:\n",
        "          nowH = nowH - attacks[i][1]\n",
        "        else:\n",
        "          # 처음 시간보다 늦어도 시작은 최대 체력이므로 어택만!\n",
        "          nowH = nowH - attacks[i][1]\n",
        "      else:\n",
        "        # 전 시간의 차이를 구함\n",
        "        num = (attacks[i][0] - attacks[i-1][0]) -1\n",
        "        for j in range(1, num+1):\n",
        "          if j % bandage[0] == 0:\n",
        "            # 치료 성공하면 추가 체력\n",
        "            nowH = nowH + (bandage[1] + bandage[2])\n",
        "          else:\n",
        "            # 그냥 체력 회복\n",
        "            nowH = nowH + (bandage[1])\n",
        "        # 최대 체력\n",
        "        if nowH > health:\n",
        "          nowH = health\n",
        "        nowH = nowH - attacks[i][1]\n",
        "      # 0 이하면 -1\n",
        "      if nowH <= 0:\n",
        "        nowH = -1\n",
        "        break\n",
        "    return nowH\n",
        "solution([4, 2, 7],\t20,\t[[1, 15], [5, 16], [8, 6]])"
      ]
    },
    {
      "cell_type": "code",
      "source": [
        "# 2. 2024 KAKAO WINTER INTERNSHIP 가장 많이 받은 선물\n",
        "# https://school.programmers.co.kr/learn/courses/30/lessons/258712\n",
        "\n",
        "def solution(friends, gifts):\n",
        "    answer = 0\n",
        "    myDict = {}\n",
        "\n",
        "    # 주고받은 선물\n",
        "    result = {name: {other_name: 0 for other_name in friends} for name in friends}\n",
        "    for gif in gifts:\n",
        "      result[gif.split(' ')[0]][gif.split(' ')[1]] += 1\n",
        "\n",
        "    # 선물 지수\n",
        "    sendDict = {}\n",
        "    gifDict = {}\n",
        "    for user in friends:\n",
        "      Snum_ = 0\n",
        "      Gnum_ = 0\n",
        "      for gif in gifts:\n",
        "        if user == gif.split(' ')[0]:\n",
        "          Snum_ += 1\n",
        "        elif user ==  gif.split(' ')[1]:\n",
        "          Gnum_ += 1\n",
        "      sendDict[user] = Snum_\n",
        "      gifDict[user]  = Gnum_\n",
        "\n",
        "    # 계산\n",
        "    dict_ = {}\n",
        "    for user in friends:\n",
        "      number = 0\n",
        "      for re in result[user]:\n",
        "        if user != re:\n",
        "          if result[user][re] > result[re][user]:\n",
        "            number += 1\n",
        "          elif result[user][re] - result[re][user] == 0:\n",
        "            num_1 = sendDict[user] - gifDict[user]\n",
        "            num_2 = sendDict[re] - gifDict[re]\n",
        "            if num_1 > num_2:\n",
        "              number += 1\n",
        "      dict_[user] = number\n",
        "    print(dict_)\n",
        "    return max(dict_.values())\n",
        "\n",
        "solution([\"joy\", \"brad\", \"alessandro\", \"conan\", \"david\"],\t[\"alessandro brad\", \"alessandro joy\", \"alessandro conan\", \"david alessandro\", \"alessandro david\"])"
      ],
      "metadata": {
        "id": "n1Wh2PK_QVdN",
        "colab": {
          "base_uri": "https://localhost:8080/"
        },
        "outputId": "805f28f5-6633-4afc-ab12-d500e66f1fdd"
      },
      "execution_count": 48,
      "outputs": [
        {
          "output_type": "stream",
          "name": "stdout",
          "text": [
            "{'joy': 0, 'brad': 0, 'alessandro': 4, 'conan': 0, 'david': 3}\n"
          ]
        },
        {
          "output_type": "execute_result",
          "data": {
            "text/plain": [
              "4"
            ]
          },
          "metadata": {},
          "execution_count": 48
        }
      ]
    },
    {
      "cell_type": "code",
      "source": [],
      "metadata": {
        "id": "X1CNTMvgsr6W"
      },
      "execution_count": null,
      "outputs": []
    }
  ]
}