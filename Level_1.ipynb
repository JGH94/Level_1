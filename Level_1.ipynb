{
  "nbformat": 4,
  "nbformat_minor": 0,
  "metadata": {
    "colab": {
      "provenance": [],
      "authorship_tag": "ABX9TyN2maXGW6FrNy4AeAbXpeNY",
      "include_colab_link": true
    },
    "kernelspec": {
      "name": "python3",
      "display_name": "Python 3"
    },
    "language_info": {
      "name": "python"
    }
  },
  "cells": [
    {
      "cell_type": "markdown",
      "metadata": {
        "id": "view-in-github",
        "colab_type": "text"
      },
      "source": [
        "<a href=\"https://colab.research.google.com/github/JGH94/Level_1/blob/main/Level_1.ipynb\" target=\"_parent\"><img src=\"https://colab.research.google.com/assets/colab-badge.svg\" alt=\"Open In Colab\"/></a>"
      ]
    },
    {
      "cell_type": "code",
      "execution_count": null,
      "metadata": {
        "colab": {
          "base_uri": "https://localhost:8080/"
        },
        "id": "rJlFHGVzJWfU",
        "outputId": "558cd476-2afa-46cd-f769-0b95619be099"
      },
      "outputs": [
        {
          "output_type": "execute_result",
          "data": {
            "text/plain": [
              "-1"
            ]
          },
          "metadata": {},
          "execution_count": 126
        }
      ],
      "source": [
        "# 1. [PCCP 기출문제] 1번 / 붕대 감기\n",
        "# https://school.programmers.co.kr/learn/courses/30/lessons/250137\n",
        "\n",
        "def solution(bandage, health, attacks):\n",
        "    nowH = health\n",
        "    for i in range(0,len(attacks)):\n",
        "      if i == 0:\n",
        "        # 처음 시간보다 공격이 빠를때, 어택!\n",
        "        if bandage[0] > attacks[i][0]:\n",
        "          nowH = nowH - attacks[i][1]\n",
        "        else:\n",
        "          # 처음 시간보다 늦어도 시작은 최대 체력이므로 어택만!\n",
        "          nowH = nowH - attacks[i][1]\n",
        "      else:\n",
        "        # 전 시간의 차이를 구함\n",
        "        num = (attacks[i][0] - attacks[i-1][0]) -1\n",
        "        for j in range(1, num+1):\n",
        "          if j % bandage[0] == 0:\n",
        "            # 치료 성공하면 추가 체력\n",
        "            nowH = nowH + (bandage[1] + bandage[2])\n",
        "          else:\n",
        "            # 그냥 체력 회복\n",
        "            nowH = nowH + (bandage[1])\n",
        "        # 최대 체력\n",
        "        if nowH > health:\n",
        "          nowH = health\n",
        "        nowH = nowH - attacks[i][1]\n",
        "      # 0 이하면 -1\n",
        "      if nowH <= 0:\n",
        "        nowH = -1\n",
        "        break\n",
        "    return nowH\n",
        "solution([4, 2, 7],\t20,\t[[1, 15], [5, 16], [8, 6]])"
      ]
    },
    {
      "cell_type": "code",
      "source": [
        "# 2. 2024 KAKAO WINTER INTERNSHIP 가장 많이 받은 선물\n",
        "# https://school.programmers.co.kr/learn/courses/30/lessons/258712\n",
        "\n",
        "def solution(friends, gifts):\n",
        "    answer = 0\n",
        "    myDict = {}\n",
        "\n",
        "    # 주고받은 선물\n",
        "    result = {name: {other_name: 0 for other_name in friends} for name in friends}\n",
        "    for gif in gifts:\n",
        "      result[gif.split(' ')[0]][gif.split(' ')[1]] += 1\n",
        "\n",
        "    # 선물 지수\n",
        "    sendDict = {}\n",
        "    gifDict = {}\n",
        "    for user in friends:\n",
        "      Snum_ = 0\n",
        "      Gnum_ = 0\n",
        "      for gif in gifts:\n",
        "        if user == gif.split(' ')[0]:\n",
        "          Snum_ += 1\n",
        "        elif user ==  gif.split(' ')[1]:\n",
        "          Gnum_ += 1\n",
        "      sendDict[user] = Snum_\n",
        "      gifDict[user]  = Gnum_\n",
        "\n",
        "    # 계산\n",
        "    dict_ = {}\n",
        "    for user in friends:\n",
        "      number = 0\n",
        "      for re in result[user]:\n",
        "        if user != re:\n",
        "          if result[user][re] > result[re][user]:\n",
        "            number += 1\n",
        "          elif result[user][re] - result[re][user] == 0:\n",
        "            num_1 = sendDict[user] - gifDict[user]\n",
        "            num_2 = sendDict[re] - gifDict[re]\n",
        "            if num_1 > num_2:\n",
        "              number += 1\n",
        "      dict_[user] = number\n",
        "    print(dict_)\n",
        "    return max(dict_.values())\n",
        "\n",
        "solution([\"joy\", \"brad\", \"alessandro\", \"conan\", \"david\"],\t[\"alessandro brad\", \"alessandro joy\", \"alessandro conan\", \"david alessandro\", \"alessandro david\"])"
      ],
      "metadata": {
        "id": "n1Wh2PK_QVdN",
        "colab": {
          "base_uri": "https://localhost:8080/"
        },
        "outputId": "805f28f5-6633-4afc-ab12-d500e66f1fdd"
      },
      "execution_count": null,
      "outputs": [
        {
          "output_type": "stream",
          "name": "stdout",
          "text": [
            "{'joy': 0, 'brad': 0, 'alessandro': 4, 'conan': 0, 'david': 3}\n"
          ]
        },
        {
          "output_type": "execute_result",
          "data": {
            "text/plain": [
              "4"
            ]
          },
          "metadata": {},
          "execution_count": 48
        }
      ]
    },
    {
      "cell_type": "code",
      "source": [
        "# 3. [PCCE 기출문제] 9번 / 이웃한 칸\n",
        "# https://school.programmers.co.kr/learn/courses/30/lessons/250125\n",
        "\n",
        "# [0, 1, -1, 0], [1, 0, 0, -1]를 만들어서 for 문을 돌려도 되지만 그냥 하드코딩으로 진행해봄\n",
        "def solution(board, h, w):\n",
        "    answer = 0\n",
        "    color = board[h][w]\n",
        "    #상\n",
        "    try:\n",
        "      if 0 <= h-1:\n",
        "        if color ==board[h-1][w]:\n",
        "          answer += 1\n",
        "    except:\n",
        "      pass\n",
        "    #하\n",
        "    try:\n",
        "      if len(board)-1 >= h+1:\n",
        "        if color == board[h+1][w]:\n",
        "          answer += 1\n",
        "    except:\n",
        "      pass\n",
        "    #좌\n",
        "    try:\n",
        "      if 0 <= w-1:\n",
        "        if color == board[h][w-1]:\n",
        "          answer += 1\n",
        "    except:\n",
        "      pass\n",
        "    #우\n",
        "    try:\n",
        "      if len(board[0]) >= w+1:\n",
        "        if color == board[h][w+1]:\n",
        "          answer += 1\n",
        "    except:\n",
        "      pass\n",
        "    return answer\n",
        "\n",
        "solution([[\"blue\", \"red\", \"orange\", \"red\"], [\"red\", \"red\", \"blue\", \"orange\"], [\"blue\", \"orange\", \"red\", \"red\"], [\"orange\", \"orange\", \"red\", \"blue\"]],\t1,\t1)"
      ],
      "metadata": {
        "colab": {
          "base_uri": "https://localhost:8080/"
        },
        "id": "X1CNTMvgsr6W",
        "outputId": "5715b33b-a787-441a-e36f-dad5496da425"
      },
      "execution_count": null,
      "outputs": [
        {
          "output_type": "execute_result",
          "data": {
            "text/plain": [
              "2"
            ]
          },
          "metadata": {},
          "execution_count": 57
        }
      ]
    },
    {
      "cell_type": "code",
      "source": [
        "# 4. [PCCE 기출문제] 10번 / 데이터 분석\n",
        "# https://school.programmers.co.kr/learn/courses/30/lessons/250121\n",
        "\n",
        "def solution(data, ext, val_ext, sort_by):\n",
        "    answer = []\n",
        "    for item in data:\n",
        "      kinds = 0\n",
        "      sort_ = 0\n",
        "      # 범위 설정\n",
        "      if ext  == 'code':\n",
        "        #  코드 번호\n",
        "        kinds = 0\n",
        "      elif ext == 'date':\n",
        "        #  제조일\n",
        "        kinds = 1\n",
        "      elif ext == 'maximum':\n",
        "        #  최대 수량\n",
        "        kinds = 2\n",
        "      elif ext == 'remain':\n",
        "        # 현재 수량\n",
        "        kinds = 3\n",
        "\n",
        "      # 정렬 기준\n",
        "      if sort_by  == 'code':\n",
        "        #  코드 번호\n",
        "        sort_ = 0\n",
        "      elif sort_by == 'date':\n",
        "        #  제조일\n",
        "        sort_ = 1\n",
        "      elif sort_by == 'maximum':\n",
        "        #  최대 수량\n",
        "        sort_ = 2\n",
        "      elif sort_by == 'remain':\n",
        "        # 현재 수량\n",
        "        sort_ = 3\n",
        "\n",
        "\n",
        "      if item[kinds] < val_ext:\n",
        "        answer.append(item)\n",
        "    return  sorted(answer, key=lambda x: x[sort_])\n",
        "solution([[1, 20300104, 100, 80], [2, 20300804, 847, 37], [3, 20300401, 10, 8]],\t\"date\",\t20300501,\t\"remain\")"
      ],
      "metadata": {
        "colab": {
          "base_uri": "https://localhost:8080/"
        },
        "id": "KnhFsuXUGSpE",
        "outputId": "c90041bd-f5d2-4d25-d2c9-a248a54a7a73"
      },
      "execution_count": 4,
      "outputs": [
        {
          "output_type": "execute_result",
          "data": {
            "text/plain": [
              "[[3, 20300401, 10, 8], [1, 20300104, 100, 80]]"
            ]
          },
          "metadata": {},
          "execution_count": 4
        }
      ]
    },
    {
      "cell_type": "code",
      "source": [
        "# 5. 달리기 경주\n",
        "# https://school.programmers.co.kr/learn/courses/30/lessons/178871\n",
        "\n",
        "# 시간 초과 발생...\n",
        "def solution(players, callings):\n",
        "    answer = []\n",
        "    for item in callings:\n",
        "      index = players.index(item) # 여기가 문제..\n",
        "      user = players[index-1]\n",
        "      players[index-1] = item\n",
        "      players[index] = user\n",
        "    return players\n",
        "\n",
        "# 시간 초과 발생 돼서 딕셔너리 활용해봄. 통과\n",
        "def solution_2(players, callings):\n",
        "    answer = []\n",
        "    dict_ = {}\n",
        "    # 딕셔너리로 먼저 인덱스 생성\n",
        "    for index, value in enumerate(players):\n",
        "      dict_[value] = index\n",
        "\n",
        "    # for문 돌면서 1명식 앞질러가기!\n",
        "    for item in callings:\n",
        "      index = dict_[item]\n",
        "      user = players[index-1]\n",
        "\n",
        "      players[index-1] = item\n",
        "      players[index] = user\n",
        "\n",
        "      dict_[item] = index - 1\n",
        "      dict_[user] = index\n",
        "\n",
        "    return players\n",
        "\n",
        "solution_2([\"mumu\", \"soe\", \"poe\", \"kai\", \"mine\"],\t[\"kai\", \"kai\", \"mine\", \"mine\"])"
      ],
      "metadata": {
        "colab": {
          "base_uri": "https://localhost:8080/"
        },
        "id": "h6xCF9KRMWem",
        "outputId": "d8633e77-33f4-474e-a0f4-a0bfe403197c"
      },
      "execution_count": 19,
      "outputs": [
        {
          "output_type": "stream",
          "name": "stdout",
          "text": [
            "{'mumu': 0, 'soe': 1, 'poe': 2, 'kai': 3, 'mine': 4}\n"
          ]
        },
        {
          "output_type": "execute_result",
          "data": {
            "text/plain": [
              "['mumu', 'kai', 'mine', 'soe', 'poe']"
            ]
          },
          "metadata": {},
          "execution_count": 19
        }
      ]
    }
  ]
}