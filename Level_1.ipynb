{
  "nbformat": 4,
  "nbformat_minor": 0,
  "metadata": {
    "colab": {
      "provenance": [],
      "authorship_tag": "ABX9TyOuNVYRR+RQoANknVYLfSuh",
      "include_colab_link": true
    },
    "kernelspec": {
      "name": "python3",
      "display_name": "Python 3"
    },
    "language_info": {
      "name": "python"
    }
  },
  "cells": [
    {
      "cell_type": "markdown",
      "metadata": {
        "id": "view-in-github",
        "colab_type": "text"
      },
      "source": [
        "<a href=\"https://colab.research.google.com/github/JGH94/Level_1/blob/main/Level_1.ipynb\" target=\"_parent\"><img src=\"https://colab.research.google.com/assets/colab-badge.svg\" alt=\"Open In Colab\"/></a>"
      ]
    },
    {
      "cell_type": "code",
      "execution_count": 126,
      "metadata": {
        "colab": {
          "base_uri": "https://localhost:8080/"
        },
        "id": "rJlFHGVzJWfU",
        "outputId": "558cd476-2afa-46cd-f769-0b95619be099"
      },
      "outputs": [
        {
          "output_type": "execute_result",
          "data": {
            "text/plain": [
              "-1"
            ]
          },
          "metadata": {},
          "execution_count": 126
        }
      ],
      "source": [
        "# 1. [PCCP 기출문제] 1번 / 붕대 감기\n",
        "# https://school.programmers.co.kr/learn/courses/30/lessons/250137\n",
        "\n",
        "def solution(bandage, health, attacks):\n",
        "    nowH = health\n",
        "    for i in range(0,len(attacks)):\n",
        "      if i == 0:\n",
        "        # 처음 시간보다 공격이 빠를때, 어택!\n",
        "        if bandage[0] > attacks[i][0]:\n",
        "          nowH = nowH - attacks[i][1]\n",
        "        else:\n",
        "          # 처음 시간보다 늦어도 시작은 최대 체력이므로 어택만!\n",
        "          nowH = nowH - attacks[i][1]\n",
        "      else:\n",
        "        # 전 시간의 차이를 구함\n",
        "        num = (attacks[i][0] - attacks[i-1][0]) -1\n",
        "        for j in range(1, num+1):\n",
        "          if j % bandage[0] == 0:\n",
        "            # 치료 성공하면 추가 체력\n",
        "            nowH = nowH + (bandage[1] + bandage[2])\n",
        "          else:\n",
        "            # 그냥 체력 회복\n",
        "            nowH = nowH + (bandage[1])\n",
        "        # 최대 체력\n",
        "        if nowH > health:\n",
        "          nowH = health\n",
        "        nowH = nowH - attacks[i][1]\n",
        "      # 0 이하면 -1\n",
        "      if nowH <= 0:\n",
        "        nowH = -1\n",
        "        break\n",
        "    return nowH\n",
        "solution([4, 2, 7],\t20,\t[[1, 15], [5, 16], [8, 6]])"
      ]
    },
    {
      "cell_type": "code",
      "source": [],
      "metadata": {
        "id": "n1Wh2PK_QVdN"
      },
      "execution_count": null,
      "outputs": []
    }
  ]
}